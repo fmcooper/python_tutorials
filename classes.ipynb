{
 "cells": [
  {
   "cell_type": "markdown",
   "metadata": {},
   "source": [
    "# Classes"
   ]
  },
  {
   "cell_type": "markdown",
   "metadata": {},
   "source": [
    "### Creating classes"
   ]
  },
  {
   "cell_type": "markdown",
   "metadata": {},
   "source": [
    "General class Person"
   ]
  },
  {
   "cell_type": "code",
   "execution_count": 1,
   "metadata": {},
   "outputs": [],
   "source": [
    "# class person\n",
    "class Person:\n",
    "    def __init__(self, id, first_name, surname):\n",
    "        self.id = id\n",
    "        self._first_name = first_name\n",
    "        self._surname = surname\n",
    "        \n",
    "    def __str__(self):\n",
    "        return f'{self._first_name} {self._surname}, id {self.id}'"
   ]
  },
  {
   "cell_type": "markdown",
   "metadata": {},
   "source": [
    "Subclasses Student and Staff"
   ]
  },
  {
   "cell_type": "code",
   "execution_count": 2,
   "metadata": {},
   "outputs": [
    {
     "name": "stdout",
     "output_type": "stream",
     "text": [
      "Student: John Smith, id stud039465, subject Maths\n",
      "Student: Sarah Wang, id stud346993, subject Physics\n",
      "Staff: Nora Telas, id staf9474NT, pay 44000\n",
      "Staff: Craig Douglas, id staf4838CD, pay 38000\n"
     ]
    }
   ],
   "source": [
    "# class student is a subclass of Person\n",
    "class Student(Person):\n",
    "    def __init__(self, id, first_name, surname, subject):\n",
    "        Person.__init__(self, id, first_name, surname)\n",
    "        self.subject = subject\n",
    "    \n",
    "    def __str__(self):\n",
    "        return f'Student: ' + Person.__str__(self) + f', subject {self.subject}'\n",
    "    \n",
    "    def say_hi(self):\n",
    "        return f'Student: {self._first_name} says hi!'\n",
    "\n",
    "# class staff is a subclass of Person\n",
    "class Staff(Person):\n",
    "    def __init__(self, id, first_name, surname, pay):\n",
    "        Person.__init__(self, id, first_name, surname)\n",
    "        self.pay = pay\n",
    "        \n",
    "    def __str__(self):\n",
    "        return f'Staff: ' + Person.__str__(self) + f', pay {self.pay}'\n",
    "    \n",
    "    def say_hi(self):\n",
    "        return f'Staff: {self._first_name} says hello!'\n",
    "    \n",
    "# creating instances of student and staff\n",
    "stu1 = Student('stud039465', 'John', 'Smith', 'Maths')\n",
    "stu2 = Student('stud346993', 'Sarah', 'Wang', 'Physics')\n",
    "sta1 = Staff('staf9474NT', 'Nora', 'Telas', 44000)\n",
    "sta2 = Staff('staf4838CD', 'Craig', 'Douglas', 38000)\n",
    "print(str(stu1))\n",
    "print(str(stu2))\n",
    "print(str(sta1))\n",
    "print(str(sta2))"
   ]
  },
  {
   "cell_type": "markdown",
   "metadata": {},
   "source": [
    "### Changing attributes of classes"
   ]
  },
  {
   "cell_type": "code",
   "execution_count": 4,
   "metadata": {},
   "outputs": [
    {
     "name": "stdout",
     "output_type": "stream",
     "text": [
      "Student: John Smith, id stud039465, subject Maths\n",
      "Student: Jack Smith, id stud039465, subject English\n"
     ]
    }
   ],
   "source": [
    "stu1 = Student('stud039465', 'John', 'Smith', 'Maths')\n",
    "print(str(stu1))\n",
    "\n",
    "# changing a public student attribute\n",
    "stu1.subject = 'English'\n",
    "\n",
    "# changing a private student attribute - just as easy - attribute name with \n",
    "# underscore indicates that this is done at own risk\n",
    "stu1._first_name = 'Jack'\n",
    "print(str(stu1))\n",
    "\n",
    "# deleting an attribute\n",
    "del stu1.subject"
   ]
  },
  {
   "cell_type": "code",
   "execution_count": null,
   "metadata": {},
   "outputs": [],
   "source": []
  }
 ],
 "metadata": {
  "kernelspec": {
   "display_name": "Python 3",
   "language": "python",
   "name": "python3"
  },
  "language_info": {
   "codemirror_mode": {
    "name": "ipython",
    "version": 3
   },
   "file_extension": ".py",
   "mimetype": "text/x-python",
   "name": "python",
   "nbconvert_exporter": "python",
   "pygments_lexer": "ipython3",
   "version": "3.6.1"
  }
 },
 "nbformat": 4,
 "nbformat_minor": 2
}
